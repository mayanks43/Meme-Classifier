{
 "cells": [
  {
   "cell_type": "markdown",
   "metadata": {},
   "source": [
    "Generating features for images\n",
    "-----------------------------\n",
    "Load the VGGNet model with the pre-trained weights. Get the files necessary for VGGNet from [here](https://github.com/szagoruyko/loadcaffe). We use the model called VGG ILSVRC-2014 19-layer. "
   ]
  },
  {
   "cell_type": "code",
   "execution_count": 1,
   "metadata": {
    "collapsed": false
   },
   "outputs": [
    {
     "data": {
      "text/plain": [
       "Successfully loaded VGGNet/VGG_ILSVRC_19_layers.caffemodel\n"
      ]
     },
     "execution_count": 1,
     "metadata": {},
     "output_type": "execute_result"
    },
    {
     "data": {
      "text/plain": [
       "conv1_1: 64 3 3 3\n",
       "conv1_2: 64 64 3 3\n",
       "conv2_1: 128 64 3 3\n"
      ]
     },
     "execution_count": 1,
     "metadata": {},
     "output_type": "execute_result"
    },
    {
     "data": {
      "text/plain": [
       "conv2_2: 128 128 3 3\n",
       "conv3_1: 256 128 3 3\n",
       "conv3_2: 256 256 3 3\n"
      ]
     },
     "execution_count": 1,
     "metadata": {},
     "output_type": "execute_result"
    },
    {
     "data": {
      "text/plain": [
       "conv3_3: 256 256 3 3\n"
      ]
     },
     "execution_count": 1,
     "metadata": {},
     "output_type": "execute_result"
    },
    {
     "data": {
      "text/plain": [
       "conv3_4: 256 256 3 3\n"
      ]
     },
     "execution_count": 1,
     "metadata": {},
     "output_type": "execute_result"
    },
    {
     "data": {
      "text/plain": [
       "conv4_1: 512 256 3 3\n"
      ]
     },
     "execution_count": 1,
     "metadata": {},
     "output_type": "execute_result"
    },
    {
     "data": {
      "text/plain": [
       "conv4_2: 512 512 3 3\n"
      ]
     },
     "execution_count": 1,
     "metadata": {},
     "output_type": "execute_result"
    },
    {
     "data": {
      "text/plain": [
       "conv4_3: 512 512 3 3\n"
      ]
     },
     "execution_count": 1,
     "metadata": {},
     "output_type": "execute_result"
    },
    {
     "data": {
      "text/plain": [
       "conv4_4: 512 512 3 3\n"
      ]
     },
     "execution_count": 1,
     "metadata": {},
     "output_type": "execute_result"
    },
    {
     "data": {
      "text/plain": [
       "conv5_1: 512 512 3 3\n"
      ]
     },
     "execution_count": 1,
     "metadata": {},
     "output_type": "execute_result"
    },
    {
     "data": {
      "text/plain": [
       "conv5_2: 512 512 3 3\n"
      ]
     },
     "execution_count": 1,
     "metadata": {},
     "output_type": "execute_result"
    },
    {
     "data": {
      "text/plain": [
       "conv5_3: 512 512 3 3\n"
      ]
     },
     "execution_count": 1,
     "metadata": {},
     "output_type": "execute_result"
    },
    {
     "data": {
      "text/plain": [
       "conv5_4: 512 512 3 3\n"
      ]
     },
     "execution_count": 1,
     "metadata": {},
     "output_type": "execute_result"
    },
    {
     "data": {
      "text/plain": [
       "fc6: 1 1 25088 4096\n"
      ]
     },
     "execution_count": 1,
     "metadata": {},
     "output_type": "execute_result"
    },
    {
     "data": {
      "text/plain": [
       "fc7: 1 1 4096 4096\n"
      ]
     },
     "execution_count": 1,
     "metadata": {},
     "output_type": "execute_result"
    },
    {
     "data": {
      "text/plain": [
       "fc8: 1 1 4096 1000\n"
      ]
     },
     "execution_count": 1,
     "metadata": {},
     "output_type": "execute_result"
    }
   ],
   "source": [
    "require 'cunn'\n",
    "require 'loadcaffe'\n",
    "require 'optim'\n",
    "vgg = loadcaffe.load('VGGNet/VGG_ILSVRC_19_layers_deploy.prototxt.txt','VGGNet/VGG_ILSVRC_19_layers.caffemodel')"
   ]
  },
  {
   "cell_type": "markdown",
   "metadata": {},
   "source": [
    "Transfer this model to cuda"
   ]
  },
  {
   "cell_type": "code",
   "execution_count": 2,
   "metadata": {
    "collapsed": false
   },
   "outputs": [],
   "source": [
    "vgg:cuda();"
   ]
  },
  {
   "cell_type": "markdown",
   "metadata": {},
   "source": [
    "Load all the meme categories."
   ]
  },
  {
   "cell_type": "code",
   "execution_count": 3,
   "metadata": {
    "collapsed": false
   },
   "outputs": [],
   "source": [
    "require 'lfs'\n",
    "classes = {}\n",
    "for file in lfs.dir(\"Meme_generator/Data\") do\n",
    "    if lfs.attributes(file, \"mode\") ~= \"directory\" then \n",
    "        table.insert(classes, file)\n",
    "    end\n",
    "end"
   ]
  },
  {
   "cell_type": "code",
   "execution_count": 4,
   "metadata": {
    "collapsed": false
   },
   "outputs": [
    {
     "data": {
      "text/plain": [
       "{\n",
       "  1 : Brian-Williams-Was-There\n",
       "  2 : Yall-Got-Any-More-Of\n",
       "  3 : The-Critic\n",
       "  4 : Serious-Xzibit\n",
       "  5 : Not-Okay-Rage-Face\n",
       "  6 : Lewandowski-E-Reus\n",
       "  7 : Frowning-Nun\n",
       "  8 : Original-Bad-Luck-Brian\n",
       "  9 : But-Thats-None-Of-My-Business\n",
       "  10 : Scared-Cat\n",
       "  11 : Fim-De-Semana\n",
       "  12 : Barack-And-Kumar-2013\n",
       "  13 : Derpina\n",
       "  14 : Simba-Shadowy-Place\n",
       "  15 : The-Bobs\n",
       "  16 : Overly-Attached-Girlfriend\n",
       "  17 : Successful-Black-Man\n",
       "  18 : Hedonism-Bot\n",
       "  19 : Smirk-Rage-Face\n",
       "  20 : Officer-Cartman\n",
       "  21 : Luiz-Fabiano\n",
       "  22 : Bothered-Bond\n",
       "  23 : Slenderman\n",
       "  24 : Advice-Yoda\n",
       "  25 : Hey-Internet\n",
       "  26 : So-Much-Drama\n",
       "  27 : House-Bunny\n",
       "  28 : RPG-Fan\n",
       "  29 : Too-Damn-High\n",
       "  30 : Metal-Jesus\n",
       "  31 : Dexter\n",
       "  32 : Sweaty-Concentrated-Rage-Face\n",
       "  33 : Rebecca-Black\n",
       "  34 : Dr-Evil\n",
       "  35 : Tough-Guy-Wanna-Be\n",
       "  36 : Bill-OReilly\n",
       "  37 : Surprised-Koala\n",
       "  38 : Ermahgerd-Berks\n",
       "  39 : Neil-deGrasse-Tyson\n",
       "  40 : Derp\n",
       "  41 : You-Should-Feel-Bad-Zoidberg\n",
       "  42 : Darti-Boy\n",
       "  43 : Malicious-Advice-Mallard\n",
       "  44 : Saw-Fulla\n",
       "  45 : Joo-Espontneo\n",
       "  46 : Jackie-Chan-WTF\n",
       "  47 : What-Do-We-Want-3\n",
       "  48 : Ceiling-Cat\n",
       "  49 : Rocket-Raccoon\n",
       "  50 : Weird-Stuff-I-Do-Potoo\n",
       "  51 : Grumpy-Cat-Star-Wars\n",
       "  52 : Edward-Elric-1\n",
       "  53 : Team-Rocket\n",
       "  54 : Archer\n",
       "  55 : I-Guarantee-It\n",
       "  56 : Hipster-Ariel\n",
       "  57 : Crosseyed-Goku\n",
       "  58 : Foal-Of-Mine\n",
       "  59 : Gangster-Baby\n",
       "  60 : Zorg\n",
       "  61 : Tech-Impaired-Duck\n",
       "  62 : Angry-Toddler\n",
       "  63 : Batman-Slapping-Robin\n",
       "  64 : Unhelpful-High-School-Teacher\n",
       "  65 : Smiling-Cat\n",
       "  66 : Chester-The-Cat\n",
       "  67 : Cereal-Guys-Daddy\n",
       "  68 : Evil-Plotting-Raccoon\n",
       "  69 : Depressed-Cat\n",
       "  70 : Eighties-Teen\n",
       "  71 : Jack-Sparrow-Being-Chased\n",
       "  72 : Grumpy-Cat-Birthday\n",
       "  73 : Slick-Fry\n",
       "  74 : Overly-Attached-Father\n",
       "  75 : Simpsons-Grandpa\n",
       "  76 : George-Washington\n",
       "  77 : Zuckerberg\n",
       "  78 : Beyonce-Knowles-Superbowl\n",
       "  79 : Corona\n",
       "  80 : Why-Not-Both\n",
       "  81 : Wrong-Number-Rita\n",
       "  82 : Impossibru-Guy-Original\n",
       "  83 : Disappointed-Tyson\n",
       "  84 : Socially-Awesome-Penguin\n",
       "  85 : Photogenic-Scene-Guy\n",
       "  86 : Brian-Burke-On-The-Phone\n",
       "  87 : Super-Cool-Ski-Instructor\n",
       "  88 : Rick-and-Carl-Longer\n",
       "  89 : Eminem\n",
       "  90 : Tennis-Defeat\n",
       "  91 : What-Do-We-Want\n",
       "  92 : Manning-Broncos\n",
       "  93 : Dr-Evil-Laser\n",
       "  94 : Advice-Doge\n",
       "  95 : Sad-Keanu\n",
       "  96 : Hypocritical-Islam-Terrorist\n",
       "  97 : Okay-Guy-Rage-Face\n",
       "  98 : Hysterical-Tom\n",
       "  99 : Gaga-Baby\n",
       "  100 : Smilin-Biden\n",
       "  101 : You-The-Real-MVP\n",
       "  102 : Beyonce-Knowles-Superbowl-Face\n",
       "  103 : Idiot-Nerd-Girl\n",
       "  104 : Mad-Moxxi\n",
       "  105 : No-I-Cant-Obama\n",
       "  106 : So-God-Made-A-Farmer\n",
       "  107 : Rasta-Science-Teacher\n",
       "  108 : Downcast-Dark-Souls\n",
       "  109 : Self-Loathing-Otter\n",
       "  110 : Molly-Weasley\n",
       "  111 : Pickup-Master\n",
       "  112 : Blank-Yellow-Sign\n",
       "  113 : Pepperidge-Farm-Remembers\n",
       "  114 : Leonardo-Dicaprio-Cheers\n",
       "  115 : Finn-The-Human\n",
       "  116 : Lame-Pun-Coon\n",
       "  117 : Minegishi-Minami2\n",
       "  118 : Spiderman-Hospital\n",
       "  119 : Mother-Of-God\n"
      ]
     },
     "execution_count": 4,
     "metadata": {},
     "output_type": "execute_result"
    },
    {
     "data": {
      "text/plain": [
       "  120 : Oku-Manami\n",
       "  121 : If-You-Know-What-I-Mean-Bean\n",
       "  122 : Bah-Humbug\n",
       "  123 : Lion-King\n",
       "  124 : You-Dont-Want-No-Part-Of-This\n",
       "  125 : Third-World-Success-Kid\n",
       "  126 : Laughing-Goat\n",
       "  127 : Britney-Spears\n",
       "  128 : Bad-Luck-Brian\n",
       "  129 : Bebo\n",
       "  130 : DoucheBag-DJ\n",
       "  131 : Monkey-Business\n",
       "  132 : Ghetto-Jesus\n",
       "  133 : Imagination-Spongebob\n",
       "  134 : Really-Evil-College-Teacher\n",
       "  135 : Angry-Baby\n",
       "  136 : Chubby-Bubbles-Girl\n",
       "  137 : One-Does-Not-Simply\n",
       "  138 : Matrix-Morpheus\n",
       "  139 : Right-In-The-Childhood\n",
       "  140 : Marvel-Civil-War-2\n",
       "  141 : Inception\n",
       "  142 : Onde\n",
       "  143 : Crazy-Girlfriend-Praying-Mantis\n",
       "  144 : Error-404\n",
       "  145 : Laughing-Men-In-Suits\n",
       "  146 : Sexy-Railroad-Spiderman\n",
       "  147 : Forever-Alone\n",
       "  148 : Look-At-All-These\n",
       "  149 : Surprised-Coala\n",
       "  150 : Surprized-Vegeta\n",
       "  151 : Say-That-Again-I-Dare-You\n",
       "  152 : Innocent-Sasha\n",
       "  153 : Sarcastic-Anthony\n",
       "  154 : WTF\n",
       "  155 : Original-I-Lied\n",
       "  156 : Reimu-Hakurei\n",
       "  157 : He-Will-Never-Get-A-Girlfriend\n",
       "  158 : Harry-Potter-Ok\n",
       "  159 : City-Bear\n",
       "  160 : No-Patrick\n",
       "  161 : Scene-Wolf\n",
       "  162 : Marvel-Civil-War\n",
       "  163 : Herm-Edwards\n",
       "  164 : Courage-Wolf\n",
       "  165 : Gotta-Go-Cat\n",
       "  166 : Beyonce-Superbowl-Yell\n",
       "  167 : Friend-Zone-Fiona\n",
       "  168 : Contradictory-Chris\n",
       "  169 : Jersey-Santa\n",
       "  170 : Overly-Suave-IT-Guy\n",
       "  171 : Bonobo-Lyfe\n",
       "  172 : Morgan-Freeman-Good-Luck\n",
       "  173 : Deadpool-Pick-Up-Lines\n",
       "  174 : Shut-Up-And-Take-My-Money-Fry\n",
       "  175 : Quit-Hatin\n",
       "  176 : Macklemore-Thrift-Store\n",
       "  177 : Vali-Corleone\n",
       "  178 : Asshole-Ref\n",
       "  179 : Smiling-Jesus\n",
       "  180 : Super-Birthday-Squirrel\n",
       "  181 : Baby-Godfather\n",
       "  182 : Darth-Maul\n",
       "  183 : Take-A-Seat-Cat\n",
       "  184 : Obi-Wan-Kenobi\n",
       "  185 : Gangnam-Style\n",
       "  186 : OMG-Karen\n",
       "  187 : Success-Kid-Original\n",
       "  188 : Foul-Bachelorette-Frog\n",
       "  189 : Cereal-Guy-Spitting\n",
       "  190 : TSA-Douche\n",
       "  191 : Paranoid-Parrot\n",
       "  192 : Bad-Joke-Eel\n",
       "  193 : Rob-In-The-Hood\n",
       "  194 : Confused-Lebowski\n",
       "  195 : Grumpy-Cat-Top-Hat\n",
       "  196 : Felix-Baumgartner\n",
       "  197 : Annoying-Childhood-Friend\n",
       "  198 : Torreshit\n",
       "  199 : Dave-Chappelle\n",
       "  200 : Unhappy-Baby\n",
       "  201 : Advice-God\n",
       "  202 : Mugatu-So-Hot-Right-Now\n",
       "  203 : Vengeance-Dad\n",
       "  204 : 1990s-First-World-Problems\n",
       "  205 : Zoidberg-Jesus\n",
       "  206 : The-Most-Interesting-Justin-Bieber\n",
       "  207 : Castaway-Fire\n",
       "  208 : Fifa-E-Call-Of-Duty\n",
       "  209 : So-I-Got-That-Goin-For-Me-Which-Is-Nice-2\n",
       "  210 : Determined-Guy-Rage-Face\n",
       "  211 : Dafuq-Did-I-Just-Read\n",
       "  212 : Patriotic-Eagle\n",
       "  213 : Art-Student-Owl\n",
       "  214 : Joseph-Ducreux\n",
       "  215 : Liam-Neeson-Taken\n",
       "  216 : No-Nappa-Its-A-Trick\n",
       "  217 : Fernando-Litre\n",
       "  218 : Romney\n",
       "  219 : FRANGO\n",
       "  220 : Psy-Horse-Dance\n",
       "  221 : Aint-Nobody-Got-Time-For-That\n",
       "  222 : Joe-Biden\n",
       "  223 : Mr-T\n",
       "  224 : Happy-Minaj\n",
       "  225 : The-Rock-Driving\n",
       "  226 : Henry-David-Thoreau\n",
       "  227 : Intelligent-Dog\n",
       "  228 : Awkward-Olympics\n",
       "  229 : Karate-Kyle\n",
       "  230 : Conspiracy-Keanu\n",
       "  231 : You-Get-An-X-And-You-Get-An-X\n",
       "  232 : Am-I-The-Only-One-Around-Here\n",
       "  233 : Jesus-Talking-To-Cool-Dude\n",
       "  234 : Computer-Guy-Facepalm\n",
       "  235 : Will-Ferrell\n",
       "  236 : Professor-Oak\n",
       "  237 : Osabama\n",
       "  238 : Patrick-Says\n",
       "  239 : Aaaaand-Its-Gone\n",
       "  240 : Kevin-Hart-The-Hell\n",
       "  241 : I-Have-No-Idea-What-I-Am-Doing\n",
       "  242 : Sad-Spiderman\n",
       "  243 : Kill-Yourself-Guy\n",
       "  244 : Third-World-Skeptical-Kid\n",
       "  245 : Hamtaro\n",
       "  246 : Look-At-Me\n",
       "  247 : Chill-Out-Lemur\n",
       "  248 : Hipster-Kitty\n",
       "  249 : Superior-Wadsworth\n",
       "  250 : Brace-Yourselves-X-is-Coming\n",
       "  251 : Big-Family-Comeback\n",
       "  252 : Babushkas-On-Facebook\n",
       "  253 : Its-Not-Going-To-Happen\n",
       "  254 : The-Most-Interesting-Cat-In-The-World\n",
       "  255 : Jack-Nicholson-The-Shining-Snow\n",
       "  256 : CURLEY\n",
       "  257 : Tears-Of-Joy\n",
       "  258 : Crazy-Dawg\n",
       "  259 : Internet-Explorer\n",
       "  260 : Obama-Cowboy-Hat\n",
       "  261 : Angry-Chef-Gordon-Ramsay\n",
       "  262 : Brian-Griffin\n",
       "  263 : Hora-Extra\n",
       "  264 : Dwight-Schrute\n",
       "  265 : Success-Kid\n",
       "  266 : Keep-Calm-And-Carry-On-Aqua\n",
       "  267 : Invalid-Argument-Vader\n",
       "  268 : Romneys-Hindenberg\n",
       "  269 : Flavor-Flav\n",
       "  270 : Kyon-Face-Palm\n",
       "  271 : Jammin-Baby\n",
       "  272 : Scumbag-Boss\n",
       "  273 : Snape\n",
       "  274 : Grumpy-Cat-Bed\n",
       "  275 : Zombie-Bad-Luck-Brian\n",
       "  276 : Brian-Williams-Was-There-2\n",
       "  277 : Simsimi\n",
       "  278 : Nickleback\n",
       "  279 : Hotline-Miami-Richard\n",
       "  280 : Yo-Mamas-So-Fat\n"
      ]
     },
     "execution_count": 4,
     "metadata": {},
     "output_type": "execute_result"
    },
    {
     "data": {
      "text/plain": [
       "  281 : Peter-Parker-Cry\n",
       "  282 : Oprah-You-Get-A\n",
       "  283 : Facepalm-Bear\n",
       "  284 : Nice-Guy-Loki\n",
       "  285 : High-Dog\n",
       "  286 : Comic-Book-Guy\n",
       "  287 : Ermahgerd-Beyonce\n",
       "  288 : Cute-Cat\n",
       "  289 : Papa-Fking-John\n",
       "  290 : Philosoraptor\n",
       "  291 : Futurama-Leela\n",
       "  292 : Paul-Wonder-Years\n",
       "  293 : Headbanzer\n",
       "  294 : Cool-Cat-Stroll\n",
       "  295 : No-Bullshit-Business-Baby\n",
       "  296 : Ancient-Aliens\n",
       "  297 : Rick-and-Carl\n",
       "  298 : Oprah-You-Get-A-Car-Everybody-Gets-A-Car\n",
       "  299 : Bart-Simpson-Peeking\n",
       "  300 : Memeo\n",
       "  301 : So-Many-Shirts\n",
       "  302 : Relaxed-Office-Guy\n",
       "  303 : Dr-Crane\n",
       "  304 : PTSD-Clarinet-Boy\n",
       "  305 : Anti-Joke-Chicken\n",
       "  306 : Spiderman-Peter-Parker\n",
       "  307 : Chainsaw-Bear\n",
       "  308 : Richard-Benson\n",
       "  309 : Grumpy-Cat-Halloween\n",
       "  310 : Sidious-Error\n",
       "  311 : Okay-Guy-Rage-Face2\n",
       "  312 : FFFFFFFUUUUUUUUUUUU\n",
       "  313 : Sigmund-Freud\n",
       "  314 : Dancing-Trollmom\n",
       "  315 : Secure-Parking\n",
       "  316 : Why-Is-The-Rum-Gone\n",
       "  317 : Slowpoke\n",
       "  318 : Bear-Grylls\n",
       "  319 : Yao-Ming\n",
       "  320 : Bad-Pun-Anna-Kendrick\n",
       "  321 : Interupting-Kanye\n",
       "  322 : Portuguese\n",
       "  323 : Chuck-Norris-Approves\n",
       "  324 : Gladys-Falcon\n",
       "  325 : Shrek-Cat\n",
       "  326 : Predator\n",
       "  327 : Original-Stoner-Dog\n",
       "  328 : Baron-Creater\n",
       "  329 : Kool-Kid-Klan\n",
       "  330 : Mayu-Watanabe\n",
       "  331 : Booty-Warrior\n",
       "  332 : Woah-Kitty\n",
       "  333 : So-I-Got-That-Goin-For-Me-Which-Is-Nice\n",
       "  334 : Baromney\n",
       "  335 : Keep-Calm-And-Carry-On-Purple\n",
       "  336 : Sad-Axl\n",
       "  337 : You-Underestimate-My-Power\n",
       "  338 : Travelonshark\n",
       "  339 : Hohoho\n",
       "  340 : Angry-Dumbledore\n",
       "  341 : Dolph-Ziggler-Sells\n",
       "  342 : Folean-Dynamite\n",
       "  343 : Picard-Wtf\n",
       "  344 : Pony-Shrugs\n",
       "  345 : Mario-Hammer-Smash\n",
       "  346 : Ill-Just-Wait-Here\n",
       "  347 : Over-Educated-Problems\n",
       "  348 : BANE-AND-BRUCE\n",
       "  349 : Condescending-Goku\n",
       "  350 : What-Year-Is-It\n",
       "  351 : Scumbag-Redditor\n",
       "  352 : Stoner-PhD\n",
       "  353 : Money-Money\n",
       "  354 : Questionable-Strategy-Kobe\n",
       "  355 : Family-Guy-Peter\n",
       "  356 : Dad-Joke-Dog\n",
       "  357 : Well-That-Escalated-Quickly\n",
       "  358 : Fat-Val-Kilmer\n",
       "  359 : Michael-Jackson-Popcorn\n",
       "  360 : Short-Satisfaction-VS-Truth\n",
       "  361 : Evil-Toddler\n",
       "  362 : Yo-Dawg-Heard-You\n",
       "  363 : Star-Wars-No\n",
       "  364 : Tomas-Rosicky\n",
       "  365 : Troll-Face-Colored\n",
       "  366 : Grandma-Finds-The-Internet\n",
       "  367 : ZNMD\n",
       "  368 : Happy-Star-Congratulations\n",
       "  369 : Packers\n",
       "  370 : Angry-Asian\n",
       "  371 : Excited-Minions\n",
       "  372 : Futurama-Zoidberg\n",
       "  373 : I-Am-Not-A-Gator-Im-A-X\n",
       "  374 : Its-Finally-Over\n",
       "  375 : Insanity-Wolf\n",
       "  376 : Priority-Peter\n",
       "  377 : McKayla-Maroney-Not-Impressed\n",
       "  378 : Evil-Cows\n",
       "  379 : Kobe\n",
       "  380 : Beard-Baby\n",
       "  381 : Sassy-Iguana\n",
       "  382 : Im-Curious-Nappa\n",
       "  383 : ERMAHGERD-TWERLERT\n",
       "  384 : Overjoyed\n",
       "  385 : Alarm-Clock\n",
       "  386 : Table-Flip-Guy\n",
       "  387 : Efrain-Juarez\n",
       "  388 : BM-Employees\n",
       "  389 : Steve-Jobs\n",
       "  390 : Butthurt-Dweller\n",
       "  391 : That-Would-Be-Great\n",
       "  392 : Cereal-Guy\n",
       "  393 : 1st-World-Canadian-Problems\n",
       "  394 : Family-Tech-Support-Guy\n",
       "  395 : Skype\n",
       "  396 : Got-Room-For-One-More\n",
       "  397 : Cool-Obama\n",
       "  398 : Mitch-McConnell\n",
       "  399 : LIGAF\n",
       "  400 : Barba\n",
       "  401 : Ordinary-Muslim-Man\n",
       "  402 : Little-Romney\n",
       "  403 : Tom-Hardy-\n",
       "  404 : Satisfied-Seal\n",
       "  405 : Angry-Koala\n",
       "  406 : Chemistry-Cat\n",
       "  407 : Good-Guy-Pizza-Rolls\n",
       "  408 : Harmless-Scout-Leader\n",
       "  409 : Ridiculously-Photogenic-Guy\n",
       "  410 : Mamimoe\n",
       "  411 : Confession-Bear\n",
       "  412 : Sparta-Leonidas\n",
       "  413 : Super-Kami-Guru-Allows-This\n",
       "  414 : confession-kid\n",
       "  415 : Turkey\n",
       "  416 : Dick-Cheney\n",
       "  417 : Hot-Scale\n",
       "  418 : Marvel-Civil-War-1\n",
       "  419 : Forever-Alone-Happy\n",
       "  420 : Joker-Rainbow-Hands\n",
       "  421 : Pathetic-Spidey\n",
       "  422 : Subtle-Pickup-Liner\n",
       "  423 : Family-Guy-Brian\n",
       "  424 : Pissed-Off-Obama\n",
       "  425 : Welcome-To-The-Internets\n",
       "  426 : Face-You-Make-Robert-Downey-Jr\n",
       "  427 : So-I-Guess-You-Can-Say-Things-Are-Getting-Pretty-Serious\n",
       "  428 : Put-It-Somewhere-Else-Patrick\n",
       "  429 : I-Was-Told-There-Would-Be\n",
       "  430 : Obama\n",
       "  431 : Obama-Romney-Pointing\n",
       "  432 : Sadly-I-Am-Only-An-Eel\n",
       "  433 : Rick-and-Carl-3\n",
       "  434 : Guy-Fawkes\n",
       "  435 : Mega-Rage-Face\n",
       "  436 : Smug-Bear\n",
       "  437 : Brian-Wilson-Vs-ZZ-Top\n",
       "  438 : Unicorn-MAN\n",
       "  439 : Socially-Awkward-Penguin\n",
       "  440 : Jim-Lehrer-The-Man\n",
       "  441 : Samuel-L-Jackson\n",
       "  442 : Jehovas-Witness-Squirrel\n",
       "  443 : Alan-Greenspan\n",
       "  444 : Samuel-Jackson-Glance\n",
       "  445 : Success"
      ]
     },
     "execution_count": 4,
     "metadata": {},
     "output_type": "execute_result"
    },
    {
     "data": {
      "text/plain": [
       "-Kid-Girl\n",
       "  446 : Fast-Furious-Johnny-Tran\n",
       "  447 : I-See-Dead-People\n",
       "  448 : I-Lied-2\n",
       "  449 : Confused-Cam\n",
       "  450 : Oh-No\n",
       "  451 : Helpful-Tyler-Durden\n",
       "  452 : Lethal-Weapon-Danny-Glover\n",
       "  453 : Bad-Luck-Hannah\n",
       "  454 : Unpopular-Opinion-Puffin\n",
       "  455 : And-everybody-loses-their-minds\n",
       "  456 : First-World-Problems-Cat\n",
       "  457 : Angry-Bride\n",
       "  458 : College-Freshman\n",
       "  459 : Larry-The-Cable-Guy\n",
       "  460 : Bill-Murray-Golf\n",
       "  461 : How-About-No-Bear\n",
       "  462 : Rena-Matsui\n",
       "  463 : Afraid-To-Ask-Andy\n",
       "  464 : High-Expectations-Asian-Father\n",
       "  465 : Be-Like-Bill\n",
       "  466 : DJ-Pauly-D\n",
       "  467 : Captain-Picard-Facepalm\n",
       "  468 : The-Rock-It-Doesnt-Matter\n",
       "  469 : Barbosa-And-Sparrow\n",
       "  470 : Evil-Otter\n",
       "  471 : Fini\n",
       "  472 : Kim-Jong-Un-Sad\n",
       "  473 : Mr-Mackey\n",
       "  474 : I-Will-Find-You-And-Kill-You\n",
       "  475 : Penguin-Gang\n",
       "  476 : Close-Enough\n",
       "  477 : Good-Guy-Greg\n",
       "  478 : Fat-Cat\n",
       "  479 : Shutup-Batty-Boy\n",
       "  480 : Big-Bird-And-Snuffy\n",
       "  481 : Casper\n",
       "  482 : Big-Ego-Man\n",
       "  483 : Kim-Jong-Il-Y-U-No\n",
       "  484 : Gandhi\n",
       "  485 : Alien-Meeting-Suggestion\n",
       "  486 : George-Bush\n",
       "  487 : Wrong-Neighboorhood-Cats\n",
       "  488 : Consuela\n",
       "  489 : Thats-Just-Something-X-Say\n",
       "  490 : Back-In-My-Day\n",
       "  491 : Duck-Face\n",
       "  492 : Because-Race-Car\n",
       "  493 : Y-U-No\n",
       "  494 : Frustrating-Mom\n",
       "  495 : Inigo-Montoya\n",
       "  496 : Minor-Mistake-Marvin\n",
       "  497 : 2nd-Term-Obama\n",
       "  498 : Grumpy-Cat-Table\n",
       "  499 : Scumbag-Job-Market\n",
       "  500 : Hide-the-Pain-Harold\n",
       "  501 : OMG-Cat\n",
       "  502 : Surprised-CatMan\n",
       "  503 : Scumbag-Minecraft\n",
       "  504 : Happy-Minaj-2\n",
       "  505 : Skeptical-Baby\n",
       "  506 : Heavy-Breathing-Cat\n",
       "  507 : Dallas-Cowboys\n",
       "  508 : Photogenic-College-Football-Player\n",
       "  509 : Admiral-Ackbar-Relationship-Expert\n",
       "  510 : Jerkoff-Javert\n",
       "  511 : Albert-Einstein-1\n",
       "  512 : Keep-Calm-And-Carry-On-Red\n",
       "  513 : Han-Solo\n",
       "  514 : Good-Fellas-Hilarious\n",
       "  515 : Batman-And-Superman\n",
       "  516 : Bender\n",
       "  517 : Engineering-Professor\n",
       "  518 : Paul-Ryan\n",
       "  519 : Uncle-Sam\n",
       "  520 : LOL-Guy\n",
       "  521 : Squidward\n",
       "  522 : Net-Noob\n",
       "  523 : Chuckchuckchuck\n",
       "  524 : Suspicious-Cat\n",
       "  525 : Today-Was-A-Good-Day\n",
       "  526 : Buddy-The-Elf\n",
       "  527 : Mr-Black-Knows-Everything\n",
       "  528 : Alright-Gentlemen-We-Need-A-New-Idea\n",
       "  529 : Musically-Oblivious-8th-Grader\n",
       "  530 : Permission-Bane\n",
       "  531 : Modern-Warfare-3\n",
       "  532 : Fk-Yeah\n",
       "  533 : Doge-2\n",
       "  534 : Rick-and-Carl-Long\n",
       "  535 : Spacey-Casey\n",
       "  536 : Spiderman-Computer-Desk\n",
       "  537 : Batman-Smiles\n",
       "  538 : I-Too-Like-To-Live-Dangerously\n",
       "  539 : Computer-Guy\n",
       "  540 : Nilo\n",
       "  541 : Grumpy-Cat-Reverse\n",
       "  542 : Skeptical-Swardson\n",
       "  543 : College-Liberal\n",
       "  544 : Big-Bird\n",
       "  545 : Mozart-Not-Sure\n",
       "  546 : Hide-Yo-Kids-Hide-Yo-Wife\n",
       "  547 : Eye-Of-Sauron\n",
       "  548 : You-The-Real-MVP-2\n",
       "  549 : Empty-Red-And-Black\n",
       "  550 : Scary-Harry\n",
       "  551 : Gangnam-Style2\n",
       "  552 : Bitch-Please\n",
       "  553 : Proper-Lady\n",
       "  554 : Evil-Baby\n",
       "  555 : Seriously-Face\n",
       "  556 : Patrick-Henry\n",
       "  557 : Liam-Neeson-Taken-2\n",
       "  558 : Pickup-Line-Panda\n",
       "  559 : Im-Fabulous-Adam\n",
       "  560 : Dating-Site-Murderer\n",
       "  561 : Chief-Keef\n",
       "  562 : McKayla-Maroney-Not-Impressed2\n",
       "  563 : Futurama-Fry\n",
       "  564 : Austin-Powers-Honestly\n",
       "  565 : Spiderman-Camera\n",
       "  566 : Pickup-Professor\n",
       "  567 : Redneck-Randal\n",
       "  568 : Redditors-Wife\n",
       "  569 : Nuclear-Explosion\n",
       "  570 : First-World-Problems\n",
       "  571 : Baby-Cry\n",
       "  572 : Surpised-Frodo\n",
       "  573 : Criana\n",
       "  574 : Insanity-Puppy\n",
       "  575 : Misunderstood-Mitch\n",
       "  576 : Scumbag-Brain\n",
       "  577 : True-Story\n",
       "  578 : Advice-Peeta\n",
       "  579 : Doge\n",
       "  580 : Hot-Caleb\n",
       "  581 : Young-And-Reckless\n",
       "  582 : Mr-T-Pity-The-Fool\n",
       "  583 : Dead-Space\n",
       "  584 : Oh-My-God-Orange\n",
       "  585 : Yakuza\n",
       "  586 : Giovanni-Vernia\n",
       "  587 : Maury-Lie-Detector\n",
       "  588 : Shouter\n",
       "  589 : South-Park-Craig\n",
       "  590 : Selfish-Ozzy\n",
       "  591 : These-Arent-The-Droids-You-Were-Looking-For\n",
       "  592 : Actual-Advice-Mallard\n",
       "  593 : Money-Man\n",
       "  594 : Laundry-Viking\n",
       "  595 : Black-Girl-Wat\n",
       "  596 : Sad-X-All-The-Y\n",
       "  597 : Grumpy-Toad\n",
       "  598 : Youre-Too-Slow-Sonic\n",
       "  599 : Homophobic-Seal\n",
       "  600 : Awkward-Moment-Sealion\n",
       "  601 : Ron-Burgundy\n",
       "  602 : Creepy-Condescending-Wonka\n",
       "  603 : Are-Your-Parents-Brother-And-Sister\n",
       "  604 : Heres-Johnny\n",
       "  605 : Gasp-Rage-Face\n",
       "  606 : Sudden-Clarity-Clarence\n",
       "  607 : Grumpy-Cat-Christmas\n",
       "  608 : Okay-Truck\n",
       "  609 : Felix-Baumgartner-Lulz\n",
       "  610 :"
      ]
     },
     "execution_count": 4,
     "metadata": {},
     "output_type": "execute_result"
    },
    {
     "data": {
      "text/plain": [
       " Peter-Griffin-News\n",
       "  611 : Scrooge-McDuck\n",
       "  612 : Storytelling-Grandpa\n",
       "  613 : Burn-Kitty\n",
       "  614 : Scumbag-Steve\n",
       "  615 : Do-I-Care-Doe\n",
       "  616 : Baby-Insanity-Wolf\n",
       "  617 : Hardworking-Guy\n",
       "  618 : Grumpy-Cats-Father\n",
       "  619 : Guinness-World-Record\n",
       "  620 : Good-Guy-Putin\n",
       "  621 : Zombie-Overly-Attached-Girlfriend\n",
       "  622 : Stop-Cop\n",
       "  623 : Bad-Luck-Bear\n",
       "  624 : Dwight-Schrute-2\n",
       "  625 : Blue-Futurama-Fry\n",
       "  626 : Bill-Nye-The-Science-Guy\n",
       "  627 : TED\n",
       "  628 : Men-Laughing\n",
       "  629 : John-Riley-Condescension\n",
       "  630 : Jon-Stewart-Skeptical\n",
       "  631 : Life-Sucks\n",
       "  632 : First-Day-On-The-Internet-Kid\n",
       "  633 : Bad-Wife-Worse-Mom\n",
       "  634 : Solemn-Lumberjack\n",
       "  635 : Multi-Doge\n",
       "  636 : Hipster-Barista\n",
       "  637 : Excited-Cat\n",
       "  638 : Small-Face-Romney\n",
       "  639 : Oblivious-Hot-Girl\n",
       "  640 : Aw-Yeah-Rage-Face\n",
       "  641 : Billy-Graham-Mitt-Romney\n",
       "  642 : Socially-Awkward-Awesome-Penguin\n",
       "  643 : Blank-Blue-Background\n",
       "  644 : Father-Ted\n",
       "  645 : Since-When-Were-You-Under-The-Impression\n",
       "  646 : Rich-Raven\n",
       "  647 : Steve-Harvey\n",
       "  648 : Yuko-With-Gun\n",
       "  649 : Doug\n",
       "  650 : Scumbag-Daylight-Savings-Time\n",
       "  651 : Chavez\n",
       "  652 : Too-Drunk-At-Party-Tina\n",
       "  653 : Religious-Couple\n",
       "  654 : Question-Rage-Face\n",
       "  655 : Nakagawa-Haruka\n",
       "  656 : Harper-WEF\n",
       "  657 : I-Forsee\n",
       "  658 : Trailer-Park-Boys-Bubbles\n",
       "  659 : Chef-Gordon-Ramsay\n",
       "  660 : Scooby-Doo\n",
       "  661 : And-then-I-said-Obama\n",
       "  662 : Speechless-Colbert-Face\n",
       "  663 : Romney-Bong\n",
       "  664 : Justin-Bieber-Suit\n",
       "  665 : Brian-Williams-Was-There-3\n",
       "  666 : Crazy-Hispanic-Man\n",
       "  667 : Grumpy-Cat-Mistletoe\n",
       "  668 : Socially-Awesome-Awkward-Penguin\n",
       "  669 : Maroney-And-Obama-Not-Impressed\n",
       "  670 : Muschamp\n",
       "  671 : Laughing-Villains\n",
       "  672 : Star-Wars-Yoda\n",
       "  673 : Grumpy-Cat-Sky\n",
       "  674 : Cute-Puppies\n",
       "  675 : Leonardo-Dicaprio-Wolf-Of-Wall-Street\n",
       "  676 : Computer-Horse\n",
       "  677 : Bazooka-Squirrel\n",
       "  678 : Ron-Swanson\n",
       "  679 : Depression-Dog\n",
       "  680 : Confused-Gandalf\n",
       "  681 : Hercules-Hades\n",
       "  682 : Nailed-It\n",
       "  683 : Rick-Grimes\n",
       "  684 : Viking-Dudes\n",
       "  685 : Challenge-Accepted-Rage-Face\n",
       "  686 : Scrooge-McDuck-2\n",
       "  687 : Dont-You-Squidward\n",
       "  688 : Overly-Manly-Man\n",
       "  689 : Lil-Wayne\n",
       "  690 : Optimistic-Niall\n",
       "  691 : Monkey-OOH\n",
       "  692 : Sheltering-Suburban-Mom\n",
       "  693 : Gangnam-Style-PSY\n",
       "  694 : I-Know-That-Feel-Bro\n",
       "  695 : The-Most-Interesting-Man-In-The-World\n",
       "  696 : Grumpy-Cat\n",
       "  697 : Ill-Have-You-Know-Spongebob\n",
       "  698 : Grumpy-Cat-Does-Not-Believe\n",
       "  699 : Merida-Brave\n",
       "  700 : Bubba-And-Barack\n",
       "  701 : Hoody-Cat\n",
       "  702 : Barney-Stinson-Win\n",
       "  703 : Confused-Mel-Gibson\n",
       "  704 : USA-Lifter\n",
       "  705 : This-Is-Where-I'd-Put-My-Trophy-If-I-Had-One\n",
       "  706 : Finding-Neverland\n",
       "  707 : Angry-Birds-Pig\n",
       "  708 : The-Probelm-Is\n",
       "  709 : Lazy-College-Senior\n",
       "  710 : Ermahgerd-IPHERN-3GM\n",
       "  711 : Perturbed-Portman\n",
       "  712 : Idiotaco\n",
       "  713 : Ugly-Twins\n",
       "  714 : Angry-Chicken-Boss\n",
       "  715 : Boardroom-Meeting-Suggestion\n",
       "  716 : Sad-Cat\n",
       "  717 : Good-Guy-Socially-Awkward-Penguin\n",
       "  718 : Look-Son\n",
       "  719 : Sergeant-Hartmann\n",
       "  720 : Not-Bad-Obama\n",
       "  721 : Advice-Dog\n",
       "  722 : Spiderman-Laugh\n",
       "  723 : Sad-Baby\n",
       "  724 : V-For-Vendetta\n",
       "  725 : Crying-Because-Of-Cute\n",
       "  726 : Ryan-Gosling\n",
       "  727 : Rarity\n",
       "  728 : Buddy-Christ\n",
       "  729 : Chocolate-Spongebob\n",
       "  730 : Downvoting-Roman\n",
       "  731 : Annoying-Facebook-Girl\n",
       "  732 : Bad-Advice-Cat\n",
       "  733 : Chad-Johnson\n",
       "  734 : Kill-You-Cat\n",
       "  735 : Robots\n",
       "  736 : Duck-Face-Chicks\n",
       "  737 : Captain-Hindsight\n",
       "  738 : Gollum\n",
       "  739 : See-Nobody-Cares\n",
       "  740 : Disaster-Girl\n",
       "  741 : Happy-Guy-Rage-Face\n",
       "  742 : Forever-Alone-Christmas\n",
       "  743 : Business-Cat\n",
       "  744 : X-All-The-Y\n",
       "  745 : I-Should-Buy-A-Boat-Cat\n",
       "  746 : Internet-Guide\n",
       "  747 : Stephen-Harper-Podium\n",
       "  748 : Pink-Escalade\n",
       "  749 : Warning-Sign\n",
       "  750 : Romney-And-Ryan\n",
       "  751 : First-World-Stoner-Problems\n",
       "  752 : Bad-Pun-Dog\n",
       "  753 : Waiting-Skeleton\n",
       "  754 : Big-Bird-And-Mitt-Romney\n",
       "  755 : Keep-Calm-And-Carry-On-Black\n",
       "  756 : Google-Chrome\n",
       "  757 : Talk-To-Spongebob\n",
       "  758 : CASHWAG-Crew\n",
       "  759 : Arrogant-Rich-Man\n",
       "  760 : It's-True-All-of-It-Han-Solo\n",
       "  761 : Blank-Colored-Background\n",
       "  762 : We-Will-Rebuild\n",
       "  763 : How-Tough-Are-You\n",
       "  764 : Vladimir-Putin\n",
       "  765 : Spangles\n",
       "  766 : Fabulous-Frank-And-His-Snake\n",
       "  767 : Fear-And-Loathing-Cat\n",
       "  768 : Foul-B"
      ]
     },
     "execution_count": 4,
     "metadata": {},
     "output_type": "execute_result"
    },
    {
     "data": {
      "text/plain": [
       "achelor-Frog\n",
       "  769 : Mad-Money-Jim-Cramer\n",
       "  770 : 1950s-Middle-Finger\n",
       "  771 : Unwanted-House-Guest\n",
       "  772 : Cool-Story-Bro\n",
       "  773 : Police-Officer-Testifying\n",
       "  774 : Hawkward\n",
       "  775 : Sudden-Disgust-Danny\n",
       "  776 : 10-Guy\n",
       "  777 : Obama-No-Listen\n",
       "  778 : Frustrated-Boromir\n",
       "  779 : Nabilah-Jkt48\n",
       "  780 : Troll-Face\n",
       "}\n"
      ]
     },
     "execution_count": 4,
     "metadata": {},
     "output_type": "execute_result"
    }
   ],
   "source": [
    "classes"
   ]
  },
  {
   "cell_type": "markdown",
   "metadata": {},
   "source": [
    "Function to pass an image through the VGGNet. "
   ]
  },
  {
   "cell_type": "code",
   "execution_count": 11,
   "metadata": {
    "collapsed": true
   },
   "outputs": [],
   "source": [
    "function forward_image(vgg, image_path)\n",
    "    im = image.load(image_path)\n",
    "    siz = im:size()\n",
    "    if siz[1] > 3 then\n",
    "        im = im[{{1,3}}]\n",
    "    elseif siz[1] < 3 then\n",
    "        newim = torch.Tensor(3, siz[2], siz[3])\n",
    "        newim[1] = im[1]\n",
    "        newim[2] = im[1]\n",
    "        newim[3] = im[1]\n",
    "        im = newim\n",
    "    end\n",
    "    scaled = image.scale(im,224,224)\n",
    "    scaled = scaled:cuda()\n",
    "    scaled = scaled*256\n",
    "    scaled[1] = scaled[1] - 123.68\n",
    "    scaled[2] = scaled[2] - 116.779\n",
    "    scaled[3] = scaled[3] - 103.939\n",
    "    return vgg:forward(scaled)\n",
    "end"
   ]
  },
  {
   "cell_type": "markdown",
   "metadata": {},
   "source": [
    "Limit the number of images per category for faster training."
   ]
  },
  {
   "cell_type": "code",
   "execution_count": 7,
   "metadata": {
    "collapsed": false
   },
   "outputs": [
    {
     "data": {
      "text/plain": [
       "780\t\n"
      ]
     },
     "execution_count": 7,
     "metadata": {},
     "output_type": "execute_result"
    }
   ],
   "source": [
    "img_per_class = 50\n",
    "print(#classes)"
   ]
  },
  {
   "cell_type": "markdown",
   "metadata": {},
   "source": [
    "Create empty tensors for containing the input features and labels."
   ]
  },
  {
   "cell_type": "code",
   "execution_count": 8,
   "metadata": {
    "collapsed": false
   },
   "outputs": [
    {
     "data": {
      "text/plain": [
       "39000\t\n"
      ]
     },
     "execution_count": 8,
     "metadata": {},
     "output_type": "execute_result"
    }
   ],
   "source": [
    "input = torch.Tensor(img_per_class*#classes, 4096)\n",
    "labels = torch.LongTensor(img_per_class*#classes)\n",
    "print(img_per_class*#classes)"
   ]
  },
  {
   "cell_type": "markdown",
   "metadata": {},
   "source": [
    "Shift input to GPU."
   ]
  },
  {
   "cell_type": "code",
   "execution_count": 9,
   "metadata": {
    "collapsed": true
   },
   "outputs": [],
   "source": [
    "input = input:cuda()"
   ]
  },
  {
   "cell_type": "markdown",
   "metadata": {},
   "source": [
    "Pass each image from the dataset through the VGGNet. Get the output at the last but one layer. "
   ]
  },
  {
   "cell_type": "code",
   "execution_count": 12,
   "metadata": {
    "collapsed": false
   },
   "outputs": [
    {
     "data": {
      "text/plain": [
       "1000\t\n"
      ]
     },
     "execution_count": 12,
     "metadata": {},
     "output_type": "execute_result"
    },
    {
     "data": {
      "text/plain": [
       "2000\t\n"
      ]
     },
     "execution_count": 12,
     "metadata": {},
     "output_type": "execute_result"
    },
    {
     "data": {
      "text/plain": [
       "3000\t\n"
      ]
     },
     "execution_count": 12,
     "metadata": {},
     "output_type": "execute_result"
    },
    {
     "data": {
      "text/plain": [
       "4000\t\n"
      ]
     },
     "execution_count": 12,
     "metadata": {},
     "output_type": "execute_result"
    },
    {
     "data": {
      "text/plain": [
       "5000\t\n"
      ]
     },
     "execution_count": 12,
     "metadata": {},
     "output_type": "execute_result"
    },
    {
     "data": {
      "text/plain": [
       "6000\t\n"
      ]
     },
     "execution_count": 12,
     "metadata": {},
     "output_type": "execute_result"
    },
    {
     "data": {
      "text/plain": [
       "7000\t\n"
      ]
     },
     "execution_count": 12,
     "metadata": {},
     "output_type": "execute_result"
    },
    {
     "data": {
      "text/plain": [
       "8000\t\n"
      ]
     },
     "execution_count": 12,
     "metadata": {},
     "output_type": "execute_result"
    },
    {
     "data": {
      "text/plain": [
       "9000\t\n"
      ]
     },
     "execution_count": 12,
     "metadata": {},
     "output_type": "execute_result"
    },
    {
     "data": {
      "text/plain": [
       "10000\t\n"
      ]
     },
     "execution_count": 12,
     "metadata": {},
     "output_type": "execute_result"
    },
    {
     "data": {
      "text/plain": [
       "11000\t\n"
      ]
     },
     "execution_count": 12,
     "metadata": {},
     "output_type": "execute_result"
    },
    {
     "data": {
      "text/plain": [
       "12000\t\n"
      ]
     },
     "execution_count": 12,
     "metadata": {},
     "output_type": "execute_result"
    },
    {
     "data": {
      "text/plain": [
       "13000\t\n"
      ]
     },
     "execution_count": 12,
     "metadata": {},
     "output_type": "execute_result"
    },
    {
     "data": {
      "text/plain": [
       "14000\t\n"
      ]
     },
     "execution_count": 12,
     "metadata": {},
     "output_type": "execute_result"
    },
    {
     "data": {
      "text/plain": [
       "15000\t\n"
      ]
     },
     "execution_count": 12,
     "metadata": {},
     "output_type": "execute_result"
    },
    {
     "data": {
      "text/plain": [
       "16000\t\n"
      ]
     },
     "execution_count": 12,
     "metadata": {},
     "output_type": "execute_result"
    },
    {
     "data": {
      "text/plain": [
       "17000\t\n"
      ]
     },
     "execution_count": 12,
     "metadata": {},
     "output_type": "execute_result"
    },
    {
     "data": {
      "text/plain": [
       "18000\t\n"
      ]
     },
     "execution_count": 12,
     "metadata": {},
     "output_type": "execute_result"
    },
    {
     "data": {
      "text/plain": [
       "19000\t\n"
      ]
     },
     "execution_count": 12,
     "metadata": {},
     "output_type": "execute_result"
    },
    {
     "data": {
      "text/plain": [
       "20000\t\n"
      ]
     },
     "execution_count": 12,
     "metadata": {},
     "output_type": "execute_result"
    },
    {
     "data": {
      "text/plain": [
       "21000\t\n"
      ]
     },
     "execution_count": 12,
     "metadata": {},
     "output_type": "execute_result"
    },
    {
     "data": {
      "text/plain": [
       "22000\t\n"
      ]
     },
     "execution_count": 12,
     "metadata": {},
     "output_type": "execute_result"
    },
    {
     "data": {
      "text/plain": [
       "23000\t\n"
      ]
     },
     "execution_count": 12,
     "metadata": {},
     "output_type": "execute_result"
    },
    {
     "data": {
      "text/plain": [
       "24000\t\n"
      ]
     },
     "execution_count": 12,
     "metadata": {},
     "output_type": "execute_result"
    },
    {
     "data": {
      "text/plain": [
       "25000\t\n"
      ]
     },
     "execution_count": 12,
     "metadata": {},
     "output_type": "execute_result"
    },
    {
     "data": {
      "text/plain": [
       "26000\t\n"
      ]
     },
     "execution_count": 12,
     "metadata": {},
     "output_type": "execute_result"
    },
    {
     "data": {
      "text/plain": [
       "27000\t\n"
      ]
     },
     "execution_count": 12,
     "metadata": {},
     "output_type": "execute_result"
    },
    {
     "data": {
      "text/plain": [
       "28000\t\n"
      ]
     },
     "execution_count": 12,
     "metadata": {},
     "output_type": "execute_result"
    },
    {
     "data": {
      "text/plain": [
       "29000\t\n"
      ]
     },
     "execution_count": 12,
     "metadata": {},
     "output_type": "execute_result"
    },
    {
     "data": {
      "text/plain": [
       "30000\t\n"
      ]
     },
     "execution_count": 12,
     "metadata": {},
     "output_type": "execute_result"
    },
    {
     "data": {
      "text/plain": [
       "31000\t\n"
      ]
     },
     "execution_count": 12,
     "metadata": {},
     "output_type": "execute_result"
    },
    {
     "data": {
      "text/plain": [
       "32000\t\n"
      ]
     },
     "execution_count": 12,
     "metadata": {},
     "output_type": "execute_result"
    },
    {
     "data": {
      "text/plain": [
       "33000\t\n"
      ]
     },
     "execution_count": 12,
     "metadata": {},
     "output_type": "execute_result"
    },
    {
     "data": {
      "text/plain": [
       "34000\t\n"
      ]
     },
     "execution_count": 12,
     "metadata": {},
     "output_type": "execute_result"
    },
    {
     "data": {
      "text/plain": [
       "35000\t\n"
      ]
     },
     "execution_count": 12,
     "metadata": {},
     "output_type": "execute_result"
    },
    {
     "data": {
      "text/plain": [
       "36000\t\n"
      ]
     },
     "execution_count": 12,
     "metadata": {},
     "output_type": "execute_result"
    },
    {
     "data": {
      "text/plain": [
       "37000\t\n"
      ]
     },
     "execution_count": 12,
     "metadata": {},
     "output_type": "execute_result"
    },
    {
     "data": {
      "text/plain": [
       "38000\t\n"
      ]
     },
     "execution_count": 12,
     "metadata": {},
     "output_type": "execute_result"
    },
    {
     "data": {
      "text/plain": [
       "39000\t\n"
      ]
     },
     "execution_count": 12,
     "metadata": {},
     "output_type": "execute_result"
    }
   ],
   "source": [
    "for index, class in pairs(classes) do\n",
    "    for i=0,img_per_class-1 do\n",
    "        actual_index = (index-1)*img_per_class+i+1\n",
    "        if actual_index%1000 == 0 then\n",
    "            print(actual_index)\n",
    "        end\n",
    "        forward_image(vgg, \"Meme_generator/Data/\"..class..\"/\"..i..\".jpg\")\n",
    "        input[{actual_index}] = vgg.modules[43].output\n",
    "        labels[{actual_index}] = index\n",
    "    end\n",
    "    collectgarbage()\n",
    "end\n"
   ]
  },
  {
   "cell_type": "markdown",
   "metadata": {},
   "source": [
    "Save these features to a file to be used for training on meme categories."
   ]
  },
  {
   "cell_type": "code",
   "execution_count": 17,
   "metadata": {
    "collapsed": true
   },
   "outputs": [],
   "source": [
    "input = input:float()\n",
    "data = {input, labels, classes}\n",
    "torch.save(\"meme_features.t7\", data)"
   ]
  }
 ],
 "metadata": {
  "kernelspec": {
   "display_name": "iTorch",
   "language": "lua",
   "name": "itorch"
  },
  "language_info": {
   "name": "lua",
   "version": "5.1"
  }
 },
 "nbformat": 4,
 "nbformat_minor": 0
}
